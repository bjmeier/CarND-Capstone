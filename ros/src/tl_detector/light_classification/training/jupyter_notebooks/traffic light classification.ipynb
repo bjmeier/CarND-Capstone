{
 "cells": [
  {
   "cell_type": "markdown",
   "metadata": {},
   "source": [
    "# Solving the traffic light classification problem using TF Object Detection API © Medhat Omr"
   ]
  },
  {
   "cell_type": "markdown",
   "metadata": {},
   "source": [
    "## Steps"
   ]
  },
  {
   "cell_type": "markdown",
   "metadata": {},
   "source": [
    "1. TF Object Detection API [Installation](https://github.com/tensorflow/models/blob/master/research/object_detection/g3doc/installation.md)\n",
    "2. Run [Object Detection Tutorial](https://github.com/tensorflow/models/blob/master/research/object_detection/object_detection_tutorial.ipynb)\n",
    "3. Read [Distributed Training on the Oxford-IIIT Pets Dataset](https://github.com/tensorflow/models/blob/master/research/object_detection/g3doc/running_pets.md)\n",
    "4. From Information obtained above, Start [Traffic Lights Classification Task](https://becominghuman.ai/traffic-light-detection-tensorflow-api-c75fdbadac62)\n",
    "    - See following [repo](https://github.com/coldKnight/TrafficLight_Detection-TensorFlowAPI) for details on link to Udacity real and sim datasets\n",
    "5. Pick some model, and Test it in the simulator\n",
    "    - For more details on how to pick a model, see this [article](https://medium.com/@phelixlau/speed-accuracy-trade-offs-for-modern-convolutional-object-detectors-bbad4e4e0718)\n",
    "    "
   ]
  },
  {
   "cell_type": "markdown",
   "metadata": {},
   "source": [
    "## 1. TF Object Detection API Installation"
   ]
  },
  {
   "cell_type": "markdown",
   "metadata": {},
   "source": [
    "### 1.1 Install requirements in separate Conda environment\n",
    "\n",
    "```\n",
    "conda create -n carnd-capstone python=3.6\n",
    "source activate carnd-capstone\n",
    "conda list\n",
    "pip install -r requirements.txt\n",
    "conda list\n",
    "```"
   ]
  },
  {
   "cell_type": "code",
   "execution_count": 1,
   "metadata": {
    "scrolled": true
   },
   "outputs": [
    {
     "name": "stdout",
     "output_type": "stream",
     "text": [
      "Flask==0.11.1\r\n",
      "attrdict==2.0.0\r\n",
      "eventlet==0.19.0\r\n",
      "python-socketio==1.6.1\r\n",
      "numpy==1.13.1\r\n",
      "Pillow==2.2.1\r\n",
      "scipy==0.19.1\r\n",
      "keras==2.0.8\r\n",
      "tensorflow==1.3.0\r\n",
      "h5py==2.6.0\r\n",
      "lxml\r\n",
      "jupyter\r\n",
      "matplotlib\r\n",
      "\r\n"
     ]
    }
   ],
   "source": [
    "!cat requirements.txt"
   ]
  },
  {
   "cell_type": "code",
   "execution_count": 2,
   "metadata": {
    "scrolled": true
   },
   "outputs": [
    {
     "name": "stdout",
     "output_type": "stream",
     "text": [
      "# packages in environment at /Users/medhatomr/anaconda/envs/carnd-capstone:\n",
      "#\n",
      "appnope                   0.1.0                     <pip>\n",
      "attrdict                  2.0.0                     <pip>\n",
      "attrs                     17.3.0                    <pip>\n",
      "bleach                    1.5.0                     <pip>\n",
      "ca-certificates           2017.08.26           ha1e5d58_0  \n",
      "certifi                   2017.11.5        py36ha569be9_0  \n",
      "click                     6.7                       <pip>\n",
      "cycler                    0.10.0                    <pip>\n",
      "decorator                 4.1.2                     <pip>\n",
      "entrypoints               0.2.3                     <pip>\n",
      "eventlet                  0.19.0                    <pip>\n",
      "Flask                     0.11.1                    <pip>\n",
      "greenlet                  0.4.12                    <pip>\n",
      "h5py                      2.6.0                     <pip>\n",
      "html5lib                  0.9999999                 <pip>\n",
      "ipykernel                 4.7.0                     <pip>\n",
      "ipython                   6.2.1                     <pip>\n",
      "ipython-genutils          0.2.0                     <pip>\n",
      "ipywidgets                7.0.5                     <pip>\n",
      "itsdangerous              0.24                      <pip>\n",
      "jedi                      0.11.1                    <pip>\n",
      "Jinja2                    2.10                      <pip>\n",
      "jsonschema                2.6.0                     <pip>\n",
      "jupyter                   1.0.0                     <pip>\n",
      "jupyter-client            5.2.0                     <pip>\n",
      "jupyter-console           5.2.0                     <pip>\n",
      "jupyter-core              4.4.0                     <pip>\n",
      "Keras                     2.0.8                     <pip>\n",
      "libcxx                    4.0.1                h579ed51_0  \n",
      "libcxxabi                 4.0.1                hebd6815_0  \n",
      "libedit                   3.1                  hb4e282d_0  \n",
      "libffi                    3.2.1                h475c297_4  \n",
      "lxml                      4.1.1                     <pip>\n",
      "Markdown                  2.6.10                    <pip>\n",
      "MarkupSafe                1.0                       <pip>\n",
      "matplotlib                2.1.1                     <pip>\n",
      "mistune                   0.8.3                     <pip>\n",
      "nbconvert                 5.3.1                     <pip>\n",
      "nbformat                  4.4.0                     <pip>\n",
      "ncurses                   6.0                  hd04f020_2  \n",
      "notebook                  5.2.2                     <pip>\n",
      "numpy                     1.13.1                    <pip>\n",
      "openssl                   1.0.2n               hdbc3d79_0  \n",
      "pandocfilters             1.4.2                     <pip>\n",
      "parso                     0.1.1                     <pip>\n",
      "pexpect                   4.3.1                     <pip>\n",
      "pickleshare               0.7.4                     <pip>\n",
      "Pillow                    2.2.1                     <pip>\n",
      "pip                       9.0.1            py36h1555ced_4  \n",
      "pluggy                    0.6.0                     <pip>\n",
      "prompt-toolkit            1.0.15                    <pip>\n",
      "protobuf                  3.5.0.post1               <pip>\n",
      "ptyprocess                0.5.2                     <pip>\n",
      "py                        1.5.2                     <pip>\n",
      "Pygments                  2.2.0                     <pip>\n",
      "pyparsing                 2.2.0                     <pip>\n",
      "pytest                    3.3.1                     <pip>\n",
      "python                    3.6.3                h47c878a_7  \n",
      "python-dateutil           2.6.1                     <pip>\n",
      "python-engineio           2.0.1                     <pip>\n",
      "python-socketio           1.6.1                     <pip>\n",
      "pytz                      2017.3                    <pip>\n",
      "PyYAML                    3.12                      <pip>\n",
      "pyzmq                     16.0.3                    <pip>\n",
      "qtconsole                 4.3.1                     <pip>\n",
      "readline                  7.0                  hc1231fa_4  \n",
      "scipy                     0.19.1                    <pip>\n",
      "setuptools                36.5.0           py36h2134326_0  \n",
      "simplegeneric             0.8.1                     <pip>\n",
      "six                       1.11.0                    <pip>\n",
      "sqlite                    3.20.1               h7e4c145_2  \n",
      "tensorflow                1.3.0                     <pip>\n",
      "tensorflow-tensorboard    0.1.8                     <pip>\n",
      "terminado                 0.8.1                     <pip>\n",
      "testpath                  0.3.1                     <pip>\n",
      "tk                        8.6.7                h35a86e2_3  \n",
      "tornado                   4.5.2                     <pip>\n",
      "traitlets                 4.3.2                     <pip>\n",
      "wcwidth                   0.1.7                     <pip>\n",
      "Werkzeug                  0.13                      <pip>\n",
      "wheel                     0.30.0           py36h5eb2c71_1  \n",
      "widgetsnbextension        3.0.8                     <pip>\n",
      "xz                        5.2.3                h0278029_2  \n",
      "zlib                      1.2.11               hf3cbc9b_2  \n"
     ]
    }
   ],
   "source": [
    "!conda list"
   ]
  },
  {
   "cell_type": "markdown",
   "metadata": {},
   "source": [
    "Check on TensorFlow version installed (1.3.0 and not the latest because of Udacity constraints)"
   ]
  },
  {
   "cell_type": "code",
   "execution_count": 5,
   "metadata": {},
   "outputs": [
    {
     "name": "stdout",
     "output_type": "stream",
     "text": [
      "/Users/medhatomr/anaconda/envs/carnd-capstone/lib/python3.6/importlib/_bootstrap.py:219: RuntimeWarning: compiletime version 3.5 of module 'tensorflow.python.framework.fast_tensor_util' does not match runtime version 3.6\n",
      "  return f(*args, **kwds)\n",
      "1.4.0\n"
     ]
    }
   ],
   "source": [
    "!python3 -c 'import tensorflow as tf; print(tf.__version__)'  # for Python 3 (should see at least1.4.0)"
   ]
  },
  {
   "cell_type": "markdown",
   "metadata": {
    "collapsed": true
   },
   "source": [
    "### 1.2. Clone TF models and instal protobuf\n",
    "\n",
    "git clone TF models repo\n",
    "\n",
    "```\n",
    "git clone https://github.com/medhat-omr/models.git\n",
    "```\n",
    "\n",
    "install protobuf using homebrew on MacOS \n",
    "\n",
    "```\n",
    "$ brew install protobuf\n",
    "```\n",
    "\n",
    "or using apt-get on Ubuntu Linux\n",
    "\n",
    "```\n",
    "$ sudo apt-get install protobuf-compiler\n",
    "```\n",
    "\n",
    "test the version installed\n",
    "\n",
    "```\n",
    "$ protoc --version\n",
    "libprotoc 3.5.1\n",
    "```\n"
   ]
  },
  {
   "cell_type": "code",
   "execution_count": 4,
   "metadata": {},
   "outputs": [
    {
     "name": "stdout",
     "output_type": "stream",
     "text": [
      "AUTHORS           ISSUE_TEMPLATE.md WORKSPACE         \u001b[1m\u001b[36msamples\u001b[m\u001b[m\r\n",
      "CODEOWNERS        LICENSE           \u001b[1m\u001b[36mofficial\u001b[m\u001b[m          \u001b[1m\u001b[36mtutorials\u001b[m\u001b[m\r\n",
      "CONTRIBUTING.md   README.md         \u001b[1m\u001b[36mresearch\u001b[m\u001b[m\r\n"
     ]
    }
   ],
   "source": [
    "!ls ./models"
   ]
  },
  {
   "cell_type": "markdown",
   "metadata": {},
   "source": [
    "Protobuf Compilation\n",
    "\n",
    "```\n",
    "# From tensorflow/models/research/\n",
    "protoc object_detection/protos/*.proto --python_out=.\n",
    "```\n",
    "\n",
    "Add Libraries to PYTHONPATH\n",
    "\n",
    "```\n",
    "# From tensorflow/models/research/\n",
    "export PYTHONPATH=$PYTHONPATH:`pwd`:`pwd`/slim\n",
    "```\n",
    "\n",
    "> Note: This command needs to run from every new terminal you start. If you wish to avoid running this manually, you can add it as a new line to the end of your ~/.bashrc or ./zshrc file."
   ]
  },
  {
   "cell_type": "markdown",
   "metadata": {},
   "source": [
    "### 1.3 Testing the Installation\n",
    "\n",
    "```\n",
    "python object_detection/builders/model_builder_test.py\n",
    "```\n",
    "\n",
    "> RuntimeError: Python is not installed as a framework. The Mac OS X backend will not be able to function correctly if Python is not installed as a framework. See the Python documentation for more information on installing Python as a framework on Mac OS X. Please either reinstall Python as a framework, or try one of the other backends. If you are using (Ana)Conda please install python.app and replace the use of 'python' with 'pythonw'. See 'Working with Matplotlib on OSX' in the Matplotlib FAQ for more information.\n",
    "\n",
    "Solution:\n",
    "\n",
    "Problem Cause In mac os image rendering back end of matplotlib (what-is-a-backend to render using the API of Cocoa by default). There is Qt4Agg and GTKAgg and as a back-end is not the default. Set the back end of macosx that is differ compare with other windows or linux os.\n",
    "\n",
    "I resolve this issue following ways:\n",
    "\n",
    "I assume you have installed the pip matplotlib, there is a directory in you root called ~/.matplotlib.\n",
    "Create a file ~/.matplotlib/matplotlibrc there and add the following code: backend: TkAgg\n",
    "From this link you can try different diagram.\n",
    "\n",
    "from [StackOverflow](https://stackoverflow.com/questions/21784641/installation-issue-with-matplotlib-python)\n",
    "\n",
    "After applying the solution above, you should see something like this\n",
    "\n",
    "```\n",
    "Ran 11 tests in 0.058s\n",
    "\n",
    "OK\n",
    "```"
   ]
  },
  {
   "cell_type": "markdown",
   "metadata": {},
   "source": [
    "## 2. Run Object Detection Tutorial\n",
    "\n",
    "go and run models/research/object_detection/object_detection_tutorial.ipynb to make sure that everything is working fine"
   ]
  },
  {
   "cell_type": "markdown",
   "metadata": {},
   "source": [
    "## 3. Read Distributed Training on the Oxford-IIIT Pets Dataset\n",
    "\n",
    "> TODO: Put summary (if available) here\n",
    "\n",
    "## 4. From Information obtained above, Start Traffic Lights Classification Task\n",
    "\n",
    "See following [repo](https://github.com/coldKnight/TrafficLight_Detection-TensorFlowAPI) for details on link to Udacity real and sim datasets\n",
    "    \n",
    "## 5. Pick some model, and Test it in the simulator\n",
    "\n",
    "For more details on how to pick a model, see this [article](https://medium.com/@phelixlau/speed-accuracy-trade-offs-for-modern-convolutional-object-detectors-bbad4e4e0718)\n"
   ]
  },
  {
   "cell_type": "code",
   "execution_count": null,
   "metadata": {},
   "outputs": [],
   "source": []
  }
 ],
 "metadata": {
  "kernelspec": {
   "display_name": "Python 3",
   "language": "python",
   "name": "python3"
  },
  "language_info": {
   "codemirror_mode": {
    "name": "ipython",
    "version": 3
   },
   "file_extension": ".py",
   "mimetype": "text/x-python",
   "name": "python",
   "nbconvert_exporter": "python",
   "pygments_lexer": "ipython3",
   "version": "3.6.3"
  }
 },
 "nbformat": 4,
 "nbformat_minor": 2
}
